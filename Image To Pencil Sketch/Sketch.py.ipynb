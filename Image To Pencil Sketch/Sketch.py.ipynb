{
 "cells": [
  {
   "cell_type": "code",
   "execution_count": 1,
   "id": "020c690f",
   "metadata": {},
   "outputs": [],
   "source": [
    "import cv2 # importing the module\n",
    "\n",
    "img = cv2.imread('img.jpg')\n",
    "cv2.imshow('Original',img )\n",
    "\n",
    "gray_scale = cv2.cvtColor(img, cv2.COLOR_BGR2GRAY) # converting the image to grayscale\n",
    "\n",
    "inverted_img = 255 - gray_scale # invert the image\n",
    "\n",
    "blurred_img = cv2.GaussianBlur(inverted_img, (21,21), 0) # blur the image by GaussianBlur\n",
    "\n",
    "invert_blurred_img = 255 - blurred_img # invert the blurred image\n",
    "\n",
    "\n",
    "pencil_sketch_img = cv2.divide(gray_scale, invert_blurred_img, scale=256.0) # create the pencil sketch image\n",
    "cv2.imshow('Pencil Sketch',pencil_sketch_img )\n",
    "\n",
    "cv2.waitKey(0)"
   ]
  },
  {
   "cell_type": "code",
   "execution_count": null,
   "id": "19fd629f",
   "metadata": {},
   "outputs": [],
   "source": []
  }
 ],
 "metadata": {
  "kernelspec": {
   "display_name": "Python 3 (ipykernel)",
   "language": "python",
   "name": "python3"
  },
  "language_info": {
   "codemirror_mode": {
    "name": "ipython",
    "version": 3
   },
   "file_extension": ".py",
   "mimetype": "text/x-python",
   "name": "python",
   "nbconvert_exporter": "python",
   "pygments_lexer": "ipython3",
   "version": "3.8.2"
  }
 },
 "nbformat": 4,
 "nbformat_minor": 5
}
